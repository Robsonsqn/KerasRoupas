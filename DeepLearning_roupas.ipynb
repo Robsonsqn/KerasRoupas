{
  "nbformat": 4,
  "nbformat_minor": 0,
  "metadata": {
    "colab": {
      "name": "DeepLearning_roupas.ipynb",
      "version": "0.3.2",
      "provenance": []
    },
    "kernelspec": {
      "name": "python3",
      "display_name": "Python 3"
    }
  },
  "cells": [
    {
      "metadata": {
        "id": "45eAZohfBpiq",
        "colab_type": "text"
      },
      "cell_type": "markdown",
      "source": [
        "# Estudo de imagem usando :\n",
        "#     TensorFlow e Keras\n",
        "\n"
      ]
    },
    {
      "metadata": {
        "id": "Wb01aKXgItw1",
        "colab_type": "text"
      },
      "cell_type": "markdown",
      "source": [
        "## Importando o DataSet\n",
        "\n",
        "Nestes blocos importamos os dados necessarios e bibliotecas necessarias para o curso"
      ]
    },
    {
      "metadata": {
        "id": "MTkZqz938VhW",
        "colab_type": "text"
      },
      "cell_type": "markdown",
      "source": [
        "#### Parte 1.0 : importando as bibliotecas necessárias\n",
        "\n",
        "\n",
        "\n",
        "> https://www.tensorflow.org/api_docs\n",
        "\n",
        "> https://keras.io/"
      ]
    },
    {
      "metadata": {
        "id": "gQYzHstQ8Eny",
        "colab_type": "code",
        "colab": {}
      },
      "cell_type": "code",
      "source": [
        "import matplotlib.pyplot as plt\n",
        "import tensorflow\n",
        "from tensorflow import keras"
      ],
      "execution_count": 0,
      "outputs": []
    },
    {
      "metadata": {
        "id": "ypZzDiW59PsT",
        "colab_type": "text"
      },
      "cell_type": "markdown",
      "source": [
        "#### Parte 1.1 : Neste bloco acessamos o dataset \"Fashion_mnist\" que sera utilizado para treinar nosta plataforma\n",
        "\n",
        "\n",
        "> https://github.com/zalandoresearch/fashion-mnist\n",
        "\n",
        "**x = (train_images, test_images)**\n",
        "\n",
        "**y = ( train_identifications, test_identifications)**"
      ]
    },
    {
      "metadata": {
        "id": "4b23E1Yh_P4G",
        "colab_type": "text"
      },
      "cell_type": "markdown",
      "source": [
        "* Obs.: outros datasets podem ser encontrados nos links\n",
        "\n",
        "> [Kaggle](https://www.kaggle.com/datasets)\n",
        "\n",
        "> [google](https://storage.googleapis.com/openimages/web/index.html)\n",
        "\n",
        "> [AWS](https://registry.opendata.aws/)\n",
        "\n",
        "\n",
        "\n",
        "\n",
        "\n",
        "\n"
      ]
    },
    {
      "metadata": {
        "id": "7NPMy5YG_AlN",
        "colab_type": "code",
        "outputId": "3e5bb823-3628-4f52-de93-424b4dbe48d8",
        "colab": {
          "base_uri": "https://localhost:8080/",
          "height": 151
        }
      },
      "cell_type": "code",
      "source": [
        "dataset = keras.datasets.fashion_mnist\n",
        "((train_images, train_identifications),\n",
        "  (test_images, test_identifications)) = dataset.load_data()"
      ],
      "execution_count": 0,
      "outputs": [
        {
          "output_type": "stream",
          "text": [
            "Downloading data from https://storage.googleapis.com/tensorflow/tf-keras-datasets/train-labels-idx1-ubyte.gz\n",
            "32768/29515 [=================================] - 0s 0us/step\n",
            "Downloading data from https://storage.googleapis.com/tensorflow/tf-keras-datasets/train-images-idx3-ubyte.gz\n",
            "26427392/26421880 [==============================] - 0s 0us/step\n",
            "Downloading data from https://storage.googleapis.com/tensorflow/tf-keras-datasets/t10k-labels-idx1-ubyte.gz\n",
            "8192/5148 [===============================================] - 0s 0us/step\n",
            "Downloading data from https://storage.googleapis.com/tensorflow/tf-keras-datasets/t10k-images-idx3-ubyte.gz\n",
            "4423680/4422102 [==============================] - 0s 0us/step\n"
          ],
          "name": "stdout"
        }
      ]
    },
    {
      "metadata": {
        "id": "z99QD0wWI15c",
        "colab_type": "text"
      },
      "cell_type": "markdown",
      "source": [
        "## Explorando o DataSet\n",
        "\n",
        "Nestes blocos analisamos os dados  obtidos para validar e entender o conjunto"
      ]
    },
    {
      "metadata": {
        "id": "FH-ECzsBAUUX",
        "colab_type": "text"
      },
      "cell_type": "markdown",
      "source": [
        "#### Parte 2.0 : Validando o formato dos dados que temos, desde tamanha ate tipos dos mesmos"
      ]
    },
    {
      "metadata": {
        "id": "PxL_I8MBATwU",
        "colab_type": "code",
        "outputId": "f6091ae8-ee35-41e8-c3f6-fe11f4e8aa3b",
        "colab": {
          "base_uri": "https://localhost:8080/",
          "height": 34
        }
      },
      "cell_type": "code",
      "source": [
        "print(\"Treino -> \", train_images.shape, \" | Teste -> \", test_images.shape)"
      ],
      "execution_count": 0,
      "outputs": [
        {
          "output_type": "stream",
          "text": [
            "Treino ->  (60000, 28, 28)  | Teste ->  (10000, 28, 28)\n"
          ],
          "name": "stdout"
        }
      ]
    },
    {
      "metadata": {
        "id": "KdfXJxZ4Ax4n",
        "colab_type": "code",
        "outputId": "43eb9253-6106-4d42-ed69-1c6e42713a89",
        "colab": {
          "base_uri": "https://localhost:8080/",
          "height": 34
        }
      },
      "cell_type": "code",
      "source": [
        "print(\"Treino -> \", train_identifications.shape, \" | Teste -> \", test_identifications.shape)"
      ],
      "execution_count": 0,
      "outputs": [
        {
          "output_type": "stream",
          "text": [
            "Treino ->  (60000,)  | Teste ->  (10000,)\n"
          ],
          "name": "stdout"
        }
      ]
    },
    {
      "metadata": {
        "id": "GF8gkw3OI-mm",
        "colab_type": "text"
      },
      "cell_type": "markdown",
      "source": [
        "## Exibindo o DataSet\n",
        "\n",
        "Nestes blocos exibimos as imgens do conjunto e por fim ajustamos as identificações para que consigamos entender o significado de cada uma"
      ]
    },
    {
      "metadata": {
        "id": "9XKcA_r6Bt2N",
        "colab_type": "text"
      },
      "cell_type": "markdown",
      "source": [
        "#### Parte 3.0 : Visualizando as imagens contidas no dataset (usando somente uma como exemplo)"
      ]
    },
    {
      "metadata": {
        "id": "z2Z_yTzMA-H4",
        "colab_type": "code",
        "outputId": "09ecc986-1dc7-4d30-8c3b-1f959843bc58",
        "colab": {
          "base_uri": "https://localhost:8080/",
          "height": 298
        }
      },
      "cell_type": "code",
      "source": [
        "ax_vis = plt.imshow(train_images[0])\n",
        "ax_vis = plt.title(train_identifications[0])\n",
        "ax_vis"
      ],
      "execution_count": 0,
      "outputs": [
        {
          "output_type": "execute_result",
          "data": {
            "text/plain": [
              "Text(0.5, 1.0, '9')"
            ]
          },
          "metadata": {
            "tags": []
          },
          "execution_count": 11
        },
        {
          "output_type": "display_data",
          "data": {
            "image/png": "[encoded data removed]",
            "text/plain": [
              "<Figure size 432x288 with 1 Axes>"
            ]
          },
          "metadata": {
            "tags": []
          }
        }
      ]
    },
    {
      "metadata": {
        "id": "m6x3RhUXC3mY",
        "colab_type": "text"
      },
      "cell_type": "markdown",
      "source": [
        "#### Parte 3.1 : Agora vamos visualizar dados de identificação e entender os mesmos"
      ]
    },
    {
      "metadata": {
        "id": "d1gA26dnGv87",
        "colab_type": "code",
        "colab": {}
      },
      "cell_type": "code",
      "source": [
        "classification_name = ['Camiseta', 'Calça', 'Pullover', 'Vestido', 'Casaco',\n",
        "                      'Sandália', 'Camisa', 'Tênis', 'Bolsa', 'Bota']"
      ],
      "execution_count": 0,
      "outputs": []
    },
    {
      "metadata": {
        "id": "42J6esh1C3IL",
        "colab_type": "code",
        "colab": {}
      },
      "cell_type": "code",
      "source": [
        "def show_images():\n",
        "  for imagem in range(10):\n",
        "    ax_various_images = plt.subplot(2, 5, imagem+1)\n",
        "    ax_various_images = plt.imshow(train_images[imagem])\n",
        "    ax_various_images = plt.title(classification_name[\n",
        "                                  train_identifications[imagem]])\n",
        "    ax_various_images"
      ],
      "execution_count": 0,
      "outputs": []
    },
    {
      "metadata": {
        "id": "1J49Vmv4Cxij",
        "colab_type": "code",
        "outputId": "317a0aa3-744c-4335-fd96-9aee300e2810",
        "colab": {
          "base_uri": "https://localhost:8080/",
          "height": 34
        }
      },
      "cell_type": "code",
      "source": [
        "print(\"Minimo -> \", train_identifications.min(), \n",
        "      \" | Maximo -> \", train_identifications.max())"
      ],
      "execution_count": 0,
      "outputs": [
        {
          "output_type": "stream",
          "text": [
            "Minimo ->  0  | Maximo ->  9\n"
          ],
          "name": "stdout"
        }
      ]
    },
    {
      "metadata": {
        "id": "-f1EEML6GJbe",
        "colab_type": "code",
        "outputId": "cbe06324-0067-4818-9663-8126706052d2",
        "colab": {
          "base_uri": "https://localhost:8080/",
          "height": 240
        }
      },
      "cell_type": "code",
      "source": [
        "show_images()"
      ],
      "execution_count": 0,
      "outputs": [
        {
          "output_type": "display_data",
          "data": {
            "image/png": "[encoded data removed]",
            "text/plain": [
              "<Figure size 432x288 with 10 Axes>"
            ]
          },
          "metadata": {
            "tags": []
          }
        }
      ]
    },
    {
      "metadata": {
        "id": "IG1PTqdnJvdX",
        "colab_type": "text"
      },
      "cell_type": "markdown",
      "source": [
        "## Camadas de Treinamento\n",
        "\n",
        "Nestes blocos iremos fazer as camadas de treinamento do nosso modelo, estas camadas consistem em entrada -> processamento -> saida"
      ]
    },
    {
      "metadata": {
        "id": "90u17J76ELY7",
        "colab_type": "text"
      },
      "cell_type": "markdown",
      "source": [
        "### Camada 0\n",
        "\n",
        "Camada de entrada, ou seja, entrada de imagens para o modelo analisar"
      ]
    },
    {
      "metadata": {
        "id": "dx4pCHTXH5p7",
        "colab_type": "code",
        "colab": {}
      },
      "cell_type": "code",
      "source": [
        "model = 'aa'"
      ],
      "execution_count": 0,
      "outputs": []
    }
  ]
}